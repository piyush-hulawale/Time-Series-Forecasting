{
  "cells": [
    {
      "cell_type": "code",
      "execution_count": 109,
      "metadata": {
        "id": "6-xZfgiZspDT"
      },
      "outputs": [],
      "source": [
        "import pandas as pd\n",
        "import numpy as np\n",
        "import matplotlib.pyplot as plt\n",
        "import seaborn as sns\n",
        "from sklearn.model_selection import train_test_split\n",
        "from sklearn.linear_model import LinearRegression, Lasso\n",
        "from sklearn.metrics import mean_squared_error\n",
        "from sklearn.metrics import r2_score\n",
        "\n",
        "from tensorflow.keras.models import Sequential\n",
        "from tensorflow.keras.layers import Dense, LayerNormalization\n",
        "from tensorflow.keras.layers import Dropout\n",
        "from tensorflow.keras.layers import LSTM\n",
        "from tensorflow.keras.constraints import MaxNorm\n",
        "from tensorflow.keras.optimizers import SGD\n",
        "from sklearn.model_selection import cross_val_score\n",
        "from sklearn.preprocessing import LabelEncoder\n",
        "from sklearn.model_selection import StratifiedKFold\n",
        "from sklearn.preprocessing import MinMaxScaler\n",
        "from sklearn.pipeline import Pipeline\n",
        "from tensorflow.keras.callbacks import EarlyStopping"
      ]
    },
    {
      "cell_type": "code",
      "execution_count": 110,
      "metadata": {
        "id": "yx59hCjjszm7"
      },
      "outputs": [],
      "source": [
        "df = pd.read_csv(\"500034_1.csv\")"
      ]
    },
    {
      "cell_type": "code",
      "execution_count": 111,
      "metadata": {
        "id": "CsEJlJb4tU_3"
      },
      "outputs": [],
      "source": [
        "df['Date'] = pd.to_datetime(df['Date'])\n",
        "df = df.set_index('Date')"
      ]
    },
    {
      "cell_type": "code",
      "execution_count": 112,
      "metadata": {
        "id": "wZu75XpGvbFO"
      },
      "outputs": [],
      "source": [
        "df['change_close'] = (df['Close Price'] - df['Close Price'].shift(-1)) / df['Close Price'].shift(-1) * 100\n",
        "df['change_open'] = (df['Open Price'] - df['Open Price'].shift(-1)) / df['Open Price'].shift(-1) * 100"
      ]
    },
    {
      "cell_type": "code",
      "execution_count": 113,
      "metadata": {
        "id": "i3UbLWiqK0LE"
      },
      "outputs": [],
      "source": [
        "df.dropna(axis= 0, inplace=True)"
      ]
    },
    {
      "cell_type": "code",
      "execution_count": 114,
      "metadata": {
        "colab": {
          "base_uri": "https://localhost:8080/",
          "height": 413
        },
        "id": "H374Nfo5bXrs",
        "outputId": "bb4b0ffa-3a11-4399-e3ce-d637209511a1"
      },
      "outputs": [
        {
          "data": {
            "application/vnd.google.colaboratory.intrinsic+json": {
              "summary": "{\n  \"name\": \"df\",\n  \"rows\": 4455,\n  \"fields\": [\n    {\n      \"column\": \"Date\",\n      \"properties\": {\n        \"dtype\": \"date\",\n        \"min\": \"2006-05-03 00:00:00\",\n        \"max\": \"2024-04-30 00:00:00\",\n        \"num_unique_values\": 4455,\n        \"samples\": [\n          \"2012-10-12 00:00:00\",\n          \"2021-07-13 00:00:00\",\n          \"2018-07-19 00:00:00\"\n        ],\n        \"semantic_type\": \"\",\n        \"description\": \"\"\n      }\n    },\n    {\n      \"column\": \"Open Price\",\n      \"properties\": {\n        \"dtype\": \"number\",\n        \"std\": 2565.1358211967927,\n        \"min\": 43.45,\n        \"max\": 11268.95,\n        \"num_unique_values\": 3423,\n        \"samples\": [\n          3359.45,\n          889.35,\n          2190.0\n        ],\n        \"semantic_type\": \"\",\n        \"description\": \"\"\n      }\n    },\n    {\n      \"column\": \"High Price\",\n      \"properties\": {\n        \"dtype\": \"number\",\n        \"std\": 2595.7909543411242,\n        \"min\": 50.5,\n        \"max\": 11760.05,\n        \"num_unique_values\": 3753,\n        \"samples\": [\n          4450.0,\n          4025.0,\n          73.45\n        ],\n        \"semantic_type\": \"\",\n        \"description\": \"\"\n      }\n    },\n    {\n      \"column\": \"Low Price\",\n      \"properties\": {\n        \"dtype\": \"number\",\n        \"std\": 2533.130684460452,\n        \"min\": 43.45,\n        \"max\": 11268.95,\n        \"num_unique_values\": 3752,\n        \"samples\": [\n          4099.25,\n          4065.0,\n          79.5\n        ],\n        \"semantic_type\": \"\",\n        \"description\": \"\"\n      }\n    },\n    {\n      \"column\": \"Close Price\",\n      \"properties\": {\n        \"dtype\": \"number\",\n        \"std\": 2564.123900139815,\n        \"min\": 47.75,\n        \"max\": 11389.75,\n        \"num_unique_values\": 4282,\n        \"samples\": [\n          7519.95,\n          342.8,\n          6976.9\n        ],\n        \"semantic_type\": \"\",\n        \"description\": \"\"\n      }\n    },\n    {\n      \"column\": \"WAP\",\n      \"properties\": {\n        \"dtype\": \"number\",\n        \"std\": 2564.6036283891067,\n        \"min\": 48.515309185511306,\n        \"max\": 11560.310135391624,\n        \"num_unique_values\": 4455,\n        \"samples\": [\n          1207.1647727272727,\n          6175.856294975759,\n          2463.969420747797\n        ],\n        \"semantic_type\": \"\",\n        \"description\": \"\"\n      }\n    },\n    {\n      \"column\": \"No.of Shares\",\n      \"properties\": {\n        \"dtype\": \"number\",\n        \"std\": 162445,\n        \"min\": 30,\n        \"max\": 4031334,\n        \"num_unique_values\": 4169,\n        \"samples\": [\n          5294,\n          131987,\n          297344\n        ],\n        \"semantic_type\": \"\",\n        \"description\": \"\"\n      }\n    },\n    {\n      \"column\": \"No. of Trades\",\n      \"properties\": {\n        \"dtype\": \"number\",\n        \"std\": 7649,\n        \"min\": 3,\n        \"max\": 96379,\n        \"num_unique_values\": 2714,\n        \"samples\": [\n          6021,\n          535,\n          770\n        ],\n        \"semantic_type\": \"\",\n        \"description\": \"\"\n      }\n    },\n    {\n      \"column\": \"Total Turnover (Rs.)\",\n      \"properties\": {\n        \"dtype\": \"number\",\n        \"std\": 456977088.5442701,\n        \"min\": 9024.0,\n        \"max\": 10501815631.0,\n        \"num_unique_values\": 4455,\n        \"samples\": [\n          1062305.0,\n          284070862.0,\n          737677949.0\n        ],\n        \"semantic_type\": \"\",\n        \"description\": \"\"\n      }\n    },\n    {\n      \"column\": \"Deliverable Quantity\",\n      \"properties\": {\n        \"dtype\": \"number\",\n        \"std\": 61523.1980929428,\n        \"min\": 10.0,\n        \"max\": 2176967.0,\n        \"num_unique_values\": 3890,\n        \"samples\": [\n          22920.0,\n          509.0,\n          1076.0\n        ],\n        \"semantic_type\": \"\",\n        \"description\": \"\"\n      }\n    },\n    {\n      \"column\": \"% Deli. Qty to Traded Qty\",\n      \"properties\": {\n        \"dtype\": \"number\",\n        \"std\": 27.63943026127527,\n        \"min\": 0.21,\n        \"max\": 818.95,\n        \"num_unique_values\": 3475,\n        \"samples\": [\n          53.17,\n          19.09,\n          27.38\n        ],\n        \"semantic_type\": \"\",\n        \"description\": \"\"\n      }\n    },\n    {\n      \"column\": \"Spread High-Low\",\n      \"properties\": {\n        \"dtype\": \"number\",\n        \"std\": 90.0339335991188,\n        \"min\": 0.1,\n        \"max\": 1090.0,\n        \"num_unique_values\": 2255,\n        \"samples\": [\n          1.95,\n          69.85,\n          6.75\n        ],\n        \"semantic_type\": \"\",\n        \"description\": \"\"\n      }\n    },\n    {\n      \"column\": \"Spread Close-Open\",\n      \"properties\": {\n        \"dtype\": \"number\",\n        \"std\": 73.54667573227013,\n        \"min\": -948.75,\n        \"max\": 842.35,\n        \"num_unique_values\": 2355,\n        \"samples\": [\n          -46.0,\n          -85.4,\n          341.15\n        ],\n        \"semantic_type\": \"\",\n        \"description\": \"\"\n      }\n    },\n    {\n      \"column\": \"change_close\",\n      \"properties\": {\n        \"dtype\": \"number\",\n        \"std\": 2.973715640027241,\n        \"min\": -89.8026734563972,\n        \"max\": 20.000000000000004,\n        \"num_unique_values\": 4440,\n        \"samples\": [\n          2.068286277084692,\n          -3.6056253740275315,\n          3.157393502069531\n        ],\n        \"semantic_type\": \"\",\n        \"description\": \"\"\n      }\n    },\n    {\n      \"column\": \"change_open\",\n      \"properties\": {\n        \"dtype\": \"number\",\n        \"std\": 3.5621897115589203,\n        \"min\": -89.70622817565079,\n        \"max\": 37.655172413793096,\n        \"num_unique_values\": 4265,\n        \"samples\": [\n          -1.2177415577724697,\n          -0.3407155025553711,\n          -0.945281278819542\n        ],\n        \"semantic_type\": \"\",\n        \"description\": \"\"\n      }\n    }\n  ]\n}",
              "type": "dataframe",
              "variable_name": "df"
            },
            "text/html": [
              "\n",
              "  <div id=\"df-029bc61f-7784-43ce-912a-16dba0a371e0\" class=\"colab-df-container\">\n",
              "    <div>\n",
              "<style scoped>\n",
              "    .dataframe tbody tr th:only-of-type {\n",
              "        vertical-align: middle;\n",
              "    }\n",
              "\n",
              "    .dataframe tbody tr th {\n",
              "        vertical-align: top;\n",
              "    }\n",
              "\n",
              "    .dataframe thead th {\n",
              "        text-align: right;\n",
              "    }\n",
              "</style>\n",
              "<table border=\"1\" class=\"dataframe\">\n",
              "  <thead>\n",
              "    <tr style=\"text-align: right;\">\n",
              "      <th></th>\n",
              "      <th>Open Price</th>\n",
              "      <th>High Price</th>\n",
              "      <th>Low Price</th>\n",
              "      <th>Close Price</th>\n",
              "      <th>WAP</th>\n",
              "      <th>No.of Shares</th>\n",
              "      <th>No. of Trades</th>\n",
              "      <th>Total Turnover (Rs.)</th>\n",
              "      <th>Deliverable Quantity</th>\n",
              "      <th>% Deli. Qty to Traded Qty</th>\n",
              "      <th>Spread High-Low</th>\n",
              "      <th>Spread Close-Open</th>\n",
              "      <th>change_close</th>\n",
              "      <th>change_open</th>\n",
              "    </tr>\n",
              "    <tr>\n",
              "      <th>Date</th>\n",
              "      <th></th>\n",
              "      <th></th>\n",
              "      <th></th>\n",
              "      <th></th>\n",
              "      <th></th>\n",
              "      <th></th>\n",
              "      <th></th>\n",
              "      <th></th>\n",
              "      <th></th>\n",
              "      <th></th>\n",
              "      <th></th>\n",
              "      <th></th>\n",
              "      <th></th>\n",
              "      <th></th>\n",
              "    </tr>\n",
              "  </thead>\n",
              "  <tbody>\n",
              "    <tr>\n",
              "      <th>2024-04-30</th>\n",
              "      <td>6836.80</td>\n",
              "      <td>6972.40</td>\n",
              "      <td>6821.65</td>\n",
              "      <td>6931.05</td>\n",
              "      <td>6902.035176</td>\n",
              "      <td>104673</td>\n",
              "      <td>15883</td>\n",
              "      <td>7.224567e+08</td>\n",
              "      <td>56404.0</td>\n",
              "      <td>53.89</td>\n",
              "      <td>150.75</td>\n",
              "      <td>94.25</td>\n",
              "      <td>1.518147</td>\n",
              "      <td>-0.034361</td>\n",
              "    </tr>\n",
              "    <tr>\n",
              "      <th>2024-04-29</th>\n",
              "      <td>6839.15</td>\n",
              "      <td>6839.15</td>\n",
              "      <td>6710.45</td>\n",
              "      <td>6827.40</td>\n",
              "      <td>6778.717558</td>\n",
              "      <td>43786</td>\n",
              "      <td>6113</td>\n",
              "      <td>2.968129e+08</td>\n",
              "      <td>13921.0</td>\n",
              "      <td>31.79</td>\n",
              "      <td>128.70</td>\n",
              "      <td>-11.75</td>\n",
              "      <td>1.449512</td>\n",
              "      <td>-2.417744</td>\n",
              "    </tr>\n",
              "    <tr>\n",
              "      <th>2024-04-26</th>\n",
              "      <td>7008.60</td>\n",
              "      <td>7008.60</td>\n",
              "      <td>6691.40</td>\n",
              "      <td>6729.85</td>\n",
              "      <td>6771.995278</td>\n",
              "      <td>357244</td>\n",
              "      <td>30558</td>\n",
              "      <td>2.419255e+09</td>\n",
              "      <td>191023.0</td>\n",
              "      <td>53.47</td>\n",
              "      <td>317.20</td>\n",
              "      <td>-278.75</td>\n",
              "      <td>-7.733174</td>\n",
              "      <td>-4.384720</td>\n",
              "    </tr>\n",
              "    <tr>\n",
              "      <th>2024-04-25</th>\n",
              "      <td>7330.00</td>\n",
              "      <td>7362.95</td>\n",
              "      <td>7129.35</td>\n",
              "      <td>7293.90</td>\n",
              "      <td>7260.067915</td>\n",
              "      <td>27181</td>\n",
              "      <td>4150</td>\n",
              "      <td>1.973359e+08</td>\n",
              "      <td>7059.0</td>\n",
              "      <td>25.97</td>\n",
              "      <td>233.60</td>\n",
              "      <td>-36.10</td>\n",
              "      <td>-0.461263</td>\n",
              "      <td>0.605969</td>\n",
              "    </tr>\n",
              "    <tr>\n",
              "      <th>2024-04-24</th>\n",
              "      <td>7285.85</td>\n",
              "      <td>7417.00</td>\n",
              "      <td>7250.05</td>\n",
              "      <td>7327.70</td>\n",
              "      <td>7334.994097</td>\n",
              "      <td>17956</td>\n",
              "      <td>2405</td>\n",
              "      <td>1.317072e+08</td>\n",
              "      <td>7339.0</td>\n",
              "      <td>40.87</td>\n",
              "      <td>166.95</td>\n",
              "      <td>41.85</td>\n",
              "      <td>0.942935</td>\n",
              "      <td>-0.193836</td>\n",
              "    </tr>\n",
              "  </tbody>\n",
              "</table>\n",
              "</div>\n",
              "    <div class=\"colab-df-buttons\">\n",
              "\n",
              "  <div class=\"colab-df-container\">\n",
              "    <button class=\"colab-df-convert\" onclick=\"convertToInteractive('df-029bc61f-7784-43ce-912a-16dba0a371e0')\"\n",
              "            title=\"Convert this dataframe to an interactive table.\"\n",
              "            style=\"display:none;\">\n",
              "\n",
              "  <svg xmlns=\"http://www.w3.org/2000/svg\" height=\"24px\" viewBox=\"0 -960 960 960\">\n",
              "    <path d=\"M120-120v-720h720v720H120Zm60-500h600v-160H180v160Zm220 220h160v-160H400v160Zm0 220h160v-160H400v160ZM180-400h160v-160H180v160Zm440 0h160v-160H620v160ZM180-180h160v-160H180v160Zm440 0h160v-160H620v160Z\"/>\n",
              "  </svg>\n",
              "    </button>\n",
              "\n",
              "  <style>\n",
              "    .colab-df-container {\n",
              "      display:flex;\n",
              "      gap: 12px;\n",
              "    }\n",
              "\n",
              "    .colab-df-convert {\n",
              "      background-color: #E8F0FE;\n",
              "      border: none;\n",
              "      border-radius: 50%;\n",
              "      cursor: pointer;\n",
              "      display: none;\n",
              "      fill: #1967D2;\n",
              "      height: 32px;\n",
              "      padding: 0 0 0 0;\n",
              "      width: 32px;\n",
              "    }\n",
              "\n",
              "    .colab-df-convert:hover {\n",
              "      background-color: #E2EBFA;\n",
              "      box-shadow: 0px 1px 2px rgba(60, 64, 67, 0.3), 0px 1px 3px 1px rgba(60, 64, 67, 0.15);\n",
              "      fill: #174EA6;\n",
              "    }\n",
              "\n",
              "    .colab-df-buttons div {\n",
              "      margin-bottom: 4px;\n",
              "    }\n",
              "\n",
              "    [theme=dark] .colab-df-convert {\n",
              "      background-color: #3B4455;\n",
              "      fill: #D2E3FC;\n",
              "    }\n",
              "\n",
              "    [theme=dark] .colab-df-convert:hover {\n",
              "      background-color: #434B5C;\n",
              "      box-shadow: 0px 1px 3px 1px rgba(0, 0, 0, 0.15);\n",
              "      filter: drop-shadow(0px 1px 2px rgba(0, 0, 0, 0.3));\n",
              "      fill: #FFFFFF;\n",
              "    }\n",
              "  </style>\n",
              "\n",
              "    <script>\n",
              "      const buttonEl =\n",
              "        document.querySelector('#df-029bc61f-7784-43ce-912a-16dba0a371e0 button.colab-df-convert');\n",
              "      buttonEl.style.display =\n",
              "        google.colab.kernel.accessAllowed ? 'block' : 'none';\n",
              "\n",
              "      async function convertToInteractive(key) {\n",
              "        const element = document.querySelector('#df-029bc61f-7784-43ce-912a-16dba0a371e0');\n",
              "        const dataTable =\n",
              "          await google.colab.kernel.invokeFunction('convertToInteractive',\n",
              "                                                    [key], {});\n",
              "        if (!dataTable) return;\n",
              "\n",
              "        const docLinkHtml = 'Like what you see? Visit the ' +\n",
              "          '<a target=\"_blank\" href=https://colab.research.google.com/notebooks/data_table.ipynb>data table notebook</a>'\n",
              "          + ' to learn more about interactive tables.';\n",
              "        element.innerHTML = '';\n",
              "        dataTable['output_type'] = 'display_data';\n",
              "        await google.colab.output.renderOutput(dataTable, element);\n",
              "        const docLink = document.createElement('div');\n",
              "        docLink.innerHTML = docLinkHtml;\n",
              "        element.appendChild(docLink);\n",
              "      }\n",
              "    </script>\n",
              "  </div>\n",
              "\n",
              "\n",
              "<div id=\"df-abdf9780-f873-460c-8f5f-93f83f50e22f\">\n",
              "  <button class=\"colab-df-quickchart\" onclick=\"quickchart('df-abdf9780-f873-460c-8f5f-93f83f50e22f')\"\n",
              "            title=\"Suggest charts\"\n",
              "            style=\"display:none;\">\n",
              "\n",
              "<svg xmlns=\"http://www.w3.org/2000/svg\" height=\"24px\"viewBox=\"0 0 24 24\"\n",
              "     width=\"24px\">\n",
              "    <g>\n",
              "        <path d=\"M19 3H5c-1.1 0-2 .9-2 2v14c0 1.1.9 2 2 2h14c1.1 0 2-.9 2-2V5c0-1.1-.9-2-2-2zM9 17H7v-7h2v7zm4 0h-2V7h2v10zm4 0h-2v-4h2v4z\"/>\n",
              "    </g>\n",
              "</svg>\n",
              "  </button>\n",
              "\n",
              "<style>\n",
              "  .colab-df-quickchart {\n",
              "      --bg-color: #E8F0FE;\n",
              "      --fill-color: #1967D2;\n",
              "      --hover-bg-color: #E2EBFA;\n",
              "      --hover-fill-color: #174EA6;\n",
              "      --disabled-fill-color: #AAA;\n",
              "      --disabled-bg-color: #DDD;\n",
              "  }\n",
              "\n",
              "  [theme=dark] .colab-df-quickchart {\n",
              "      --bg-color: #3B4455;\n",
              "      --fill-color: #D2E3FC;\n",
              "      --hover-bg-color: #434B5C;\n",
              "      --hover-fill-color: #FFFFFF;\n",
              "      --disabled-bg-color: #3B4455;\n",
              "      --disabled-fill-color: #666;\n",
              "  }\n",
              "\n",
              "  .colab-df-quickchart {\n",
              "    background-color: var(--bg-color);\n",
              "    border: none;\n",
              "    border-radius: 50%;\n",
              "    cursor: pointer;\n",
              "    display: none;\n",
              "    fill: var(--fill-color);\n",
              "    height: 32px;\n",
              "    padding: 0;\n",
              "    width: 32px;\n",
              "  }\n",
              "\n",
              "  .colab-df-quickchart:hover {\n",
              "    background-color: var(--hover-bg-color);\n",
              "    box-shadow: 0 1px 2px rgba(60, 64, 67, 0.3), 0 1px 3px 1px rgba(60, 64, 67, 0.15);\n",
              "    fill: var(--button-hover-fill-color);\n",
              "  }\n",
              "\n",
              "  .colab-df-quickchart-complete:disabled,\n",
              "  .colab-df-quickchart-complete:disabled:hover {\n",
              "    background-color: var(--disabled-bg-color);\n",
              "    fill: var(--disabled-fill-color);\n",
              "    box-shadow: none;\n",
              "  }\n",
              "\n",
              "  .colab-df-spinner {\n",
              "    border: 2px solid var(--fill-color);\n",
              "    border-color: transparent;\n",
              "    border-bottom-color: var(--fill-color);\n",
              "    animation:\n",
              "      spin 1s steps(1) infinite;\n",
              "  }\n",
              "\n",
              "  @keyframes spin {\n",
              "    0% {\n",
              "      border-color: transparent;\n",
              "      border-bottom-color: var(--fill-color);\n",
              "      border-left-color: var(--fill-color);\n",
              "    }\n",
              "    20% {\n",
              "      border-color: transparent;\n",
              "      border-left-color: var(--fill-color);\n",
              "      border-top-color: var(--fill-color);\n",
              "    }\n",
              "    30% {\n",
              "      border-color: transparent;\n",
              "      border-left-color: var(--fill-color);\n",
              "      border-top-color: var(--fill-color);\n",
              "      border-right-color: var(--fill-color);\n",
              "    }\n",
              "    40% {\n",
              "      border-color: transparent;\n",
              "      border-right-color: var(--fill-color);\n",
              "      border-top-color: var(--fill-color);\n",
              "    }\n",
              "    60% {\n",
              "      border-color: transparent;\n",
              "      border-right-color: var(--fill-color);\n",
              "    }\n",
              "    80% {\n",
              "      border-color: transparent;\n",
              "      border-right-color: var(--fill-color);\n",
              "      border-bottom-color: var(--fill-color);\n",
              "    }\n",
              "    90% {\n",
              "      border-color: transparent;\n",
              "      border-bottom-color: var(--fill-color);\n",
              "    }\n",
              "  }\n",
              "</style>\n",
              "\n",
              "  <script>\n",
              "    async function quickchart(key) {\n",
              "      const quickchartButtonEl =\n",
              "        document.querySelector('#' + key + ' button');\n",
              "      quickchartButtonEl.disabled = true;  // To prevent multiple clicks.\n",
              "      quickchartButtonEl.classList.add('colab-df-spinner');\n",
              "      try {\n",
              "        const charts = await google.colab.kernel.invokeFunction(\n",
              "            'suggestCharts', [key], {});\n",
              "      } catch (error) {\n",
              "        console.error('Error during call to suggestCharts:', error);\n",
              "      }\n",
              "      quickchartButtonEl.classList.remove('colab-df-spinner');\n",
              "      quickchartButtonEl.classList.add('colab-df-quickchart-complete');\n",
              "    }\n",
              "    (() => {\n",
              "      let quickchartButtonEl =\n",
              "        document.querySelector('#df-abdf9780-f873-460c-8f5f-93f83f50e22f button');\n",
              "      quickchartButtonEl.style.display =\n",
              "        google.colab.kernel.accessAllowed ? 'block' : 'none';\n",
              "    })();\n",
              "  </script>\n",
              "</div>\n",
              "\n",
              "    </div>\n",
              "  </div>\n"
            ],
            "text/plain": [
              "            Open Price  High Price  Low Price  Close Price          WAP  \\\n",
              "Date                                                                      \n",
              "2024-04-30     6836.80     6972.40    6821.65      6931.05  6902.035176   \n",
              "2024-04-29     6839.15     6839.15    6710.45      6827.40  6778.717558   \n",
              "2024-04-26     7008.60     7008.60    6691.40      6729.85  6771.995278   \n",
              "2024-04-25     7330.00     7362.95    7129.35      7293.90  7260.067915   \n",
              "2024-04-24     7285.85     7417.00    7250.05      7327.70  7334.994097   \n",
              "\n",
              "            No.of Shares  No. of Trades  Total Turnover (Rs.)  \\\n",
              "Date                                                            \n",
              "2024-04-30        104673          15883          7.224567e+08   \n",
              "2024-04-29         43786           6113          2.968129e+08   \n",
              "2024-04-26        357244          30558          2.419255e+09   \n",
              "2024-04-25         27181           4150          1.973359e+08   \n",
              "2024-04-24         17956           2405          1.317072e+08   \n",
              "\n",
              "            Deliverable Quantity  % Deli. Qty to Traded Qty  Spread High-Low  \\\n",
              "Date                                                                           \n",
              "2024-04-30               56404.0                      53.89           150.75   \n",
              "2024-04-29               13921.0                      31.79           128.70   \n",
              "2024-04-26              191023.0                      53.47           317.20   \n",
              "2024-04-25                7059.0                      25.97           233.60   \n",
              "2024-04-24                7339.0                      40.87           166.95   \n",
              "\n",
              "            Spread Close-Open  change_close  change_open  \n",
              "Date                                                      \n",
              "2024-04-30              94.25      1.518147    -0.034361  \n",
              "2024-04-29             -11.75      1.449512    -2.417744  \n",
              "2024-04-26            -278.75     -7.733174    -4.384720  \n",
              "2024-04-25             -36.10     -0.461263     0.605969  \n",
              "2024-04-24              41.85      0.942935    -0.193836  "
            ]
          },
          "execution_count": 114,
          "metadata": {},
          "output_type": "execute_result"
        }
      ],
      "source": [
        "df.head()"
      ]
    },
    {
      "cell_type": "code",
      "execution_count": 115,
      "metadata": {
        "id": "dMiyP4xfdCmV"
      },
      "outputs": [],
      "source": [
        "df['change_close'] = df['change_close'].clip(upper = df['change_close'].quantile(0.999), lower = df['change_close'].quantile(0.001))\n",
        "df['change_open'] = df['change_open'].clip(upper = df['change_open'].quantile(0.999), lower = df['change_open'].quantile(0.001))"
      ]
    },
    {
      "cell_type": "code",
      "execution_count": 116,
      "metadata": {
        "colab": {
          "base_uri": "https://localhost:8080/",
          "height": 467
        },
        "id": "anWuRD2hcKjz",
        "outputId": "a9d70e87-c807-4260-a2c4-509721768b03"
      },
      "outputs": [
        {
          "data": {
            "text/plain": [
              "<Axes: xlabel='change_open'>"
            ]
          },
          "execution_count": 116,
          "metadata": {},
          "output_type": "execute_result"
        },
        {
          "data": {
            "image/png": "[encoded data removed]",
            "text/plain": [
              "<Figure size 640x480 with 1 Axes>"
            ]
          },
          "metadata": {},
          "output_type": "display_data"
        }
      ],
      "source": [
        "df.plot(x = 'change_open', y = 'change_close', style = '.',)"
      ]
    },
    {
      "cell_type": "code",
      "execution_count": 117,
      "metadata": {
        "colab": {
          "base_uri": "https://localhost:8080/"
        },
        "id": "WlpGYrtNHLIl",
        "outputId": "cb532483-ffe5-4262-f2b4-3ed2bbba8eb3"
      },
      "outputs": [
        {
          "name": "stdout",
          "output_type": "stream",
          "text": [
            "0.03232368417028862\n"
          ]
        }
      ],
      "source": [
        "df.corr().loc['change_close', 'change_open']\n",
        "print(np.corrcoef(df['change_close'].iloc[:-1:1], df['change_close'].shift(-1).iloc[:-1:1])[0,1])"
      ]
    },
    {
      "cell_type": "code",
      "execution_count": 118,
      "metadata": {
        "id": "QB8DmQjse1Ti"
      },
      "outputs": [],
      "source": [
        "for i in range(2, 21):\n",
        "  df[f'change_close_prev_{i}'] = df['change_close'].rolling(i).mean().shift(-i+1)\n",
        "  df[f'change_open_prev_{i}'] = df['change_open'].rolling(i).mean().shift(-i+1)"
      ]
    },
    {
      "cell_type": "code",
      "execution_count": 119,
      "metadata": {
        "colab": {
          "base_uri": "https://localhost:8080/"
        },
        "id": "YjVi63UWxnOz",
        "outputId": "b38c9aae-920c-497d-8d67-48ec9de597e9"
      },
      "outputs": [
        {
          "name": "stdout",
          "output_type": "stream",
          "text": [
            "(4455, 52)\n",
            "(4436, 52)\n"
          ]
        }
      ],
      "source": [
        "print(df.shape)\n",
        "df.dropna(axis = 0, inplace = True)\n",
        "print(df.shape)"
      ]
    },
    {
      "cell_type": "code",
      "execution_count": 120,
      "metadata": {
        "colab": {
          "base_uri": "https://localhost:8080/"
        },
        "id": "x60qdhOLu2QV",
        "outputId": "7c1be788-da93-456c-a169-86434acc5301"
      },
      "outputs": [
        {
          "name": "stdout",
          "output_type": "stream",
          "text": [
            "-----------------------------------------------------------------\n",
            "0.029464200879463134\n",
            "-0.0966826149256564\n",
            "-0.003523163542933076\n",
            "-----------------------------------------------------------------\n",
            "0.01438080664474388\n",
            "-0.10694431091712349\n",
            "0.005517220916146104\n",
            "-----------------------------------------------------------------\n",
            "0.017005425563720995\n",
            "-0.07103696354707263\n",
            "-0.011898936571002485\n",
            "-----------------------------------------------------------------\n",
            "0.010641252661893842\n",
            "-0.06940791286462576\n",
            "-0.009907716881409599\n",
            "-----------------------------------------------------------------\n",
            "0.0045597988284704445\n",
            "-0.06965958886508548\n",
            "-0.010321677972495877\n",
            "-----------------------------------------------------------------\n",
            "0.01001665859671761\n",
            "-0.08387045371258192\n",
            "0.007277061834108107\n",
            "-----------------------------------------------------------------\n",
            "0.018553108023038327\n",
            "-0.053684315191605436\n",
            "0.020005958104013375\n",
            "-----------------------------------------------------------------\n",
            "0.02286330172997882\n",
            "-0.03879809728780227\n",
            "0.014906125680866425\n",
            "-----------------------------------------------------------------\n",
            "0.02780370835905972\n",
            "-0.04006761486977245\n",
            "0.019891850389293534\n",
            "-----------------------------------------------------------------\n",
            "0.0351132840013756\n",
            "-0.03778991970204471\n",
            "0.024981104653170855\n",
            "-----------------------------------------------------------------\n",
            "0.03486042916375471\n",
            "-0.028531198070308274\n",
            "0.03765557285700197\n",
            "-----------------------------------------------------------------\n",
            "0.04078758111759014\n",
            "-0.015140636960567756\n",
            "0.030168659097665158\n",
            "-----------------------------------------------------------------\n",
            "0.03966755374109071\n",
            "-0.019103208886357494\n",
            "0.03609040102584811\n",
            "-----------------------------------------------------------------\n",
            "0.04273077011682595\n",
            "-0.014265953443003786\n",
            "0.0274416327155278\n",
            "-----------------------------------------------------------------\n",
            "0.03508203310372216\n",
            "-0.018662303822881768\n",
            "0.03130803697162228\n",
            "-----------------------------------------------------------------\n",
            "0.038124962456698636\n",
            "-0.015454494110832806\n",
            "0.028333174746152903\n",
            "-----------------------------------------------------------------\n",
            "0.03782383630695172\n",
            "-0.01351840093810273\n",
            "0.033134105683056685\n",
            "-----------------------------------------------------------------\n",
            "0.038090041464252426\n",
            "-0.013218665816780785\n",
            "0.032837809675668087\n",
            "-----------------------------------------------------------------\n",
            "0.040554550525386694\n",
            "-0.01078787201844934\n",
            "0.033887030181554215\n"
          ]
        }
      ],
      "source": [
        "for i in range(2,21):\n",
        "  #plt.figure()\n",
        "  #plt.scatter(x = df[f'change_close_prev_{i}'].shift(-1), y = df['change_close'])\n",
        "  print(\"-----------------------------------------------------------------\")\n",
        "  print(np.corrcoef(df['change_close'].iloc[:-1:1], df[f'change_close_prev_{i}'].shift(-1).iloc[:-1:1])[0,1])\n",
        "  print(np.corrcoef(df['change_open'].iloc[:-1:1], df[f'change_open_prev_{i}'].shift(-1).iloc[:-1:1])[0,1])\n",
        "  print(np.corrcoef(df['change_close'].iloc[:-1:1], df[f'change_open_prev_{i}'].shift(-1).iloc[:-1:1])[0,1])"
      ]
    },
    {
      "cell_type": "code",
      "execution_count": 121,
      "metadata": {
        "id": "jkekwKji2Bzu"
      },
      "outputs": [],
      "source": [
        "#df['Open Price'] = df['Open Price'].shift(1)\n",
        "#df['High Price'] = df['High Price'].shift(1)\n",
        "#df['Low Price'] = df['Low Price'].shift(1)\n",
        "df.sort_index(inplace = True)\n",
        "interest = df[['change_close', 'change_open']].values.reshape(-1,1) #keep y at the first index"
      ]
    },
    {
      "cell_type": "code",
      "execution_count": 122,
      "metadata": {
        "id": "Dy0lbjF_upNa"
      },
      "outputs": [],
      "source": [
        "n_steps = 50\n",
        "n_features = 2\n",
        "buffer = 0\n",
        "\n",
        "X = []\n",
        "y = []\n",
        "\n",
        "scaler = MinMaxScaler(feature_range=(0,1)) #\n",
        "\n",
        "interest = scaler.fit_transform(interest)\n",
        "\n",
        "\n",
        "for j in range(len(interest)-(n_steps + buffer)):\n",
        "    X.append(interest[j:j+(n_steps)])\n",
        "    y.append(interest[j+(n_steps + buffer)][0])"
      ]
    },
    {
      "cell_type": "code",
      "execution_count": 123,
      "metadata": {
        "id": "x3nR4RHSw0ft"
      },
      "outputs": [],
      "source": [
        "X,y = np.array(X), np.array(y)"
      ]
    },
    {
      "cell_type": "code",
      "execution_count": 124,
      "metadata": {
        "colab": {
          "base_uri": "https://localhost:8080/"
        },
        "id": "s2b9Ud6scwh1",
        "outputId": "12722e92-70f5-4244-be35-d99dd0955f19"
      },
      "outputs": [
        {
          "name": "stdout",
          "output_type": "stream",
          "text": [
            "(8822, 50, 1) (8822,)\n"
          ]
        }
      ],
      "source": [
        "print(X.shape, y.shape)"
      ]
    },
    {
      "cell_type": "code",
      "execution_count": 125,
      "metadata": {
        "colab": {
          "base_uri": "https://localhost:8080/"
        },
        "id": "FsiF_6drKE0K",
        "outputId": "4dee76dd-1a29-459c-deb4-d91b0dc47b5f"
      },
      "outputs": [
        {
          "data": {
            "text/plain": [
              "[(0.3711, 0.3749], (0.5882, 0.6392], (0.4265, 0.4274], (0.3133, 0.3266], (0.5135, 0.5204], ..., (0.3133, 0.3266], (0.4602, 0.4621], (0.3672, 0.3711], (0.4621, 0.4639], (0.4265, 0.4274]]\n",
              "Length: 8822\n",
              "Categories (100, interval[float64, right]): [(-0.0001, 0.2512] < (0.2512, 0.294] < (0.294, 0.3133] <\n",
              "                                             (0.3133, 0.3266] ... (0.5422, 0.5578] <\n",
              "                                             (0.5578, 0.5882] < (0.5882, 0.6392] < (0.6392, 1.0]]"
            ]
          },
          "execution_count": 125,
          "metadata": {},
          "output_type": "execute_result"
        }
      ],
      "source": [
        "pd.qcut(y, 100)"
      ]
    },
    {
      "cell_type": "code",
      "execution_count": 126,
      "metadata": {
        "id": "6cJ1cEIdK2yy"
      },
      "outputs": [],
      "source": [
        "X_new = X\n",
        "y_new = y"
      ]
    },
    {
      "cell_type": "code",
      "execution_count": 127,
      "metadata": {
        "id": "EAjOjTMwvj7P"
      },
      "outputs": [],
      "source": [
        "length = X.shape[0]\n",
        "ratio = 0.92\n",
        "x_train, x_test = X_new[:int(length * ratio)], X_new[int(length * ratio):]\n",
        "y_train, y_test = y[:int(length * ratio)], y[int(length * ratio):]"
      ]
    },
    {
      "cell_type": "code",
      "execution_count": 129,
      "metadata": {
        "colab": {
          "base_uri": "https://localhost:8080/"
        },
        "id": "8UH4EvzzO2pe",
        "outputId": "fcc76c02-16d6-4a1a-d9d9-7b136575a822"
      },
      "outputs": [
        {
          "data": {
            "text/plain": [
              "(706, 50, 1)"
            ]
          },
          "execution_count": 129,
          "metadata": {},
          "output_type": "execute_result"
        }
      ],
      "source": [
        "x_test.shape"
      ]
    },
    {
      "cell_type": "code",
      "execution_count": 130,
      "metadata": {
        "colab": {
          "base_uri": "https://localhost:8080/"
        },
        "id": "bOfNWYqvOyqo",
        "outputId": "cdb37a7d-400e-4f3d-bdac-061b2e1cf033"
      },
      "outputs": [
        {
          "data": {
            "text/plain": [
              "(8116, 50, 1)"
            ]
          },
          "execution_count": 130,
          "metadata": {},
          "output_type": "execute_result"
        }
      ],
      "source": [
        "x_train.shape"
      ]
    },
    {
      "cell_type": "code",
      "execution_count": 22,
      "metadata": {
        "colab": {
          "base_uri": "https://localhost:8080/"
        },
        "id": "YpdklQfvCF48",
        "outputId": "50e2edb2-3a51-4369-f5f5-5c358448b354"
      },
      "outputs": [
        {
          "data": {
            "text/plain": [
              "8822"
            ]
          },
          "execution_count": 22,
          "metadata": {},
          "output_type": "execute_result"
        }
      ],
      "source": [
        "y.shape[0]"
      ]
    },
    {
      "cell_type": "code",
      "execution_count": 23,
      "metadata": {
        "colab": {
          "base_uri": "https://localhost:8080/"
        },
        "id": "PgwOMPncCLf0",
        "outputId": "0d2fa636-fdec-4e9e-f097-1f7aff3567dc"
      },
      "outputs": [
        {
          "data": {
            "text/plain": [
              "(8822, 50, 1)"
            ]
          },
          "execution_count": 23,
          "metadata": {},
          "output_type": "execute_result"
        }
      ],
      "source": [
        "X.shape"
      ]
    },
    {
      "cell_type": "code",
      "execution_count": 107,
      "metadata": {
        "id": "DqXCaDKfJuch"
      },
      "outputs": [],
      "source": [
        "df['change%'] = (df['Close Price'] - df['Close Price'].shift(-1)) / df['Close Price'].shift(-1) * 100"
      ]
    },
    {
      "cell_type": "code",
      "execution_count": null,
      "metadata": {
        "colab": {
          "base_uri": "https://localhost:8080/",
          "height": 439
        },
        "id": "C0kPr8-DycTW",
        "outputId": "723dcccf-5602-459e-9786-63dc0b389b4b"
      },
      "outputs": [
        {
          "data": {
            "text/plain": [
              "<Axes: xlabel='Date'>"
            ]
          },
          "execution_count": 20,
          "metadata": {},
          "output_type": "execute_result"
        },
        {
          "data": {
            "image/png": "[encoded data removed]",
            "text/plain": [
              "<Figure size 640x480 with 1 Axes>"
            ]
          },
          "metadata": {},
          "output_type": "display_data"
        }
      ],
      "source": [
        "df['change%'].plot()"
      ]
    },
    {
      "cell_type": "code",
      "execution_count": 30,
      "metadata": {
        "id": "SQnh-GkACPrg"
      },
      "outputs": [],
      "source": [
        "df['chage_1'] = df['change%'].shift(1)\n",
        "df['chage_2'] = df['change%'].shift(2)\n",
        "df['chage_3'] = df['change%'].shift(3)"
      ]
    },
    {
      "cell_type": "code",
      "execution_count": null,
      "metadata": {
        "colab": {
          "base_uri": "https://localhost:8080/",
          "height": 447
        },
        "id": "frp2mzFgy3c9",
        "outputId": "797729eb-692f-4756-e613-b6dea863074a"
      },
      "outputs": [
        {
          "data": {
            "text/plain": [
              "[<matplotlib.lines.Line2D at 0x7d40a95cbc70>]"
            ]
          },
          "execution_count": 21,
          "metadata": {},
          "output_type": "execute_result"
        },
        {
          "data": {
            "image/png": "[encoded data removed]",
            "text/plain": [
              "<Figure size 640x480 with 1 Axes>"
            ]
          },
          "metadata": {},
          "output_type": "display_data"
        }
      ],
      "source": [
        "plt.plot(y_test)"
      ]
    },
    {
      "cell_type": "code",
      "execution_count": 31,
      "metadata": {
        "colab": {
          "base_uri": "https://localhost:8080/"
        },
        "id": "dJMPQNZwDpjO",
        "outputId": "dd7b7cb5-5bc6-43c7-cd2d-56ef713d7290"
      },
      "outputs": [
        {
          "data": {
            "text/plain": [
              "(8822, 50, 1)"
            ]
          },
          "execution_count": 31,
          "metadata": {},
          "output_type": "execute_result"
        }
      ],
      "source": [
        "X.shape"
      ]
    },
    {
      "cell_type": "code",
      "execution_count": 40,
      "metadata": {
        "colab": {
          "base_uri": "https://localhost:8080/",
          "height": 489
        },
        "id": "z4Z6j4sXMpjg",
        "outputId": "7babd9ee-f46c-4e64-a5ce-67dd12bcf780"
      },
      "outputs": [
        {
          "data": {
            "text/html": [
              "<div>\n",
              "<style scoped>\n",
              "    .dataframe tbody tr th:only-of-type {\n",
              "        vertical-align: middle;\n",
              "    }\n",
              "\n",
              "    .dataframe tbody tr th {\n",
              "        vertical-align: top;\n",
              "    }\n",
              "\n",
              "    .dataframe thead th {\n",
              "        text-align: right;\n",
              "    }\n",
              "</style>\n",
              "<table border=\"1\" class=\"dataframe\">\n",
              "  <thead>\n",
              "    <tr style=\"text-align: right;\">\n",
              "      <th></th>\n",
              "      <th>change%</th>\n",
              "    </tr>\n",
              "    <tr>\n",
              "      <th>Date</th>\n",
              "      <th></th>\n",
              "    </tr>\n",
              "  </thead>\n",
              "  <tbody>\n",
              "    <tr>\n",
              "      <th>2006-05-30</th>\n",
              "      <td>7.693175</td>\n",
              "    </tr>\n",
              "    <tr>\n",
              "      <th>2006-05-31</th>\n",
              "      <td>4.183805</td>\n",
              "    </tr>\n",
              "    <tr>\n",
              "      <th>2006-06-01</th>\n",
              "      <td>-0.093930</td>\n",
              "    </tr>\n",
              "    <tr>\n",
              "      <th>2006-06-02</th>\n",
              "      <td>2.000000</td>\n",
              "    </tr>\n",
              "    <tr>\n",
              "      <th>2006-06-05</th>\n",
              "      <td>5.522558</td>\n",
              "    </tr>\n",
              "    <tr>\n",
              "      <th>...</th>\n",
              "      <td>...</td>\n",
              "    </tr>\n",
              "    <tr>\n",
              "      <th>2024-04-24</th>\n",
              "      <td>0.463401</td>\n",
              "    </tr>\n",
              "    <tr>\n",
              "      <th>2024-04-25</th>\n",
              "      <td>8.381316</td>\n",
              "    </tr>\n",
              "    <tr>\n",
              "      <th>2024-04-26</th>\n",
              "      <td>-1.428802</td>\n",
              "    </tr>\n",
              "    <tr>\n",
              "      <th>2024-04-29</th>\n",
              "      <td>-1.495444</td>\n",
              "    </tr>\n",
              "    <tr>\n",
              "      <th>2024-04-30</th>\n",
              "      <td>NaN</td>\n",
              "    </tr>\n",
              "  </tbody>\n",
              "</table>\n",
              "<p>4436 rows × 1 columns</p>\n",
              "</div><br><label><b>dtype:</b> float64</label>"
            ],
            "text/plain": [
              "Date\n",
              "2006-05-30    7.693175\n",
              "2006-05-31    4.183805\n",
              "2006-06-01   -0.093930\n",
              "2006-06-02    2.000000\n",
              "2006-06-05    5.522558\n",
              "                ...   \n",
              "2024-04-24    0.463401\n",
              "2024-04-25    8.381316\n",
              "2024-04-26   -1.428802\n",
              "2024-04-29   -1.495444\n",
              "2024-04-30         NaN\n",
              "Name: change%, Length: 4436, dtype: float64"
            ]
          },
          "execution_count": 40,
          "metadata": {},
          "output_type": "execute_result"
        }
      ],
      "source": [
        "df['change%']"
      ]
    },
    {
      "cell_type": "code",
      "execution_count": 131,
      "metadata": {
        "id": "7q7LruVCPj6E"
      },
      "outputs": [],
      "source": [
        "X_new = X_new.reshape(X_new.shape[0],-1)"
      ]
    },
    {
      "cell_type": "code",
      "execution_count": 135,
      "metadata": {
        "id": "o0N6uv5cPL0D"
      },
      "outputs": [],
      "source": [
        "y_new = y_new.reshape(-1,)"
      ]
    },
    {
      "cell_type": "code",
      "execution_count": 136,
      "metadata": {
        "colab": {
          "base_uri": "https://localhost:8080/"
        },
        "id": "CJ7nUIecQj4D",
        "outputId": "26a0b84d-43e5-4ce5-a0f3-499d7ed2b706"
      },
      "outputs": [
        {
          "data": {
            "text/plain": [
              "(8822,)"
            ]
          },
          "execution_count": 136,
          "metadata": {},
          "output_type": "execute_result"
        }
      ],
      "source": [
        "y_new.shape"
      ]
    },
    {
      "cell_type": "code",
      "execution_count": 137,
      "metadata": {
        "colab": {
          "base_uri": "https://localhost:8080/"
        },
        "id": "qDRgL8sID3UX",
        "outputId": "0023658f-c9d7-44c1-ef82-36094c247edf"
      },
      "outputs": [
        {
          "name": "stdout",
          "output_type": "stream",
          "text": [
            "0.2409337773029373\n",
            "0.24009426082994134\n",
            "0.8914981469246616\n",
            "-0.0025115484265034738\n"
          ]
        }
      ],
      "source": [
        "from sklearn.linear_model import LinearRegression as LR\n",
        "from sklearn.linear_model import ElasticNetCV as ENC\n",
        "from sklearn.ensemble import RandomForestRegressor as RFR\n",
        "from sklearn.neural_network import MLPRegressor as MLP\n",
        "\n",
        "print(LR().fit(X = X_new, y=y_new).score(X_new, y_new))\n",
        "print(ENC(max_iter = 10000).fit(X = X_new, y=y_new).score(X_new, y_new))\n",
        "print(RFR().fit(X = X_new, y=y_new).score(X_new, y_new))\n",
        "print(MLP(hidden_layer_sizes=(50, 1000, 100, 1), activation='relu', solver='adam', max_iter=1000).fit(X = X_new, y=y_new).score(X_new, y_new))"
      ]
    },
    {
      "cell_type": "code",
      "execution_count": 138,
      "metadata": {
        "colab": {
          "base_uri": "https://localhost:8080/"
        },
        "id": "gq_nz_waFkMo",
        "outputId": "9a1daf01-64bd-4f32-bf06-bdb47635156c"
      },
      "outputs": [
        {
          "name": "stdout",
          "output_type": "stream",
          "text": [
            "0.24009426082994134\n"
          ]
        }
      ],
      "source": [
        "print(ENC(max_iter = 10000).fit(X = X_new, y=y_new).score(X_new, y_new))"
      ]
    },
    {
      "cell_type": "code",
      "execution_count": null,
      "metadata": {
        "id": "e-EBqrsMD3Lb"
      },
      "outputs": [],
      "source": [
        "print(MLP(hidden_layer_sizes=(50,10000,10000,50,10,10,10,5,5,5,), activation='relu', solver='adam', max_iter=10000).fit(X = X_new, y=y_new).score(X_new, y_new))"
      ]
    },
    {
      "cell_type": "code",
      "execution_count": null,
      "metadata": {
        "id": "lq7q_DSOD24Q"
      },
      "outputs": [],
      "source": [
        "print(RFR().fit(X = X_new, y=y_new).score(X_new, y_new))"
      ]
    },
    {
      "cell_type": "code",
      "execution_count": null,
      "metadata": {
        "colab": {
          "base_uri": "https://localhost:8080/"
        },
        "id": "uFipE6sjdCXD",
        "outputId": "de4b4f3d-e430-464c-e25e-d4c3bb4cca14"
      },
      "outputs": [
        {
          "name": "stdout",
          "output_type": "stream",
          "text": [
            "(4052, 50) (4052,)\n"
          ]
        }
      ],
      "source": [
        "print(x_train.shape, y_train.shape)"
      ]
    },
    {
      "cell_type": "code",
      "execution_count": null,
      "metadata": {
        "id": "VhfBVHO5Lq30"
      },
      "outputs": [],
      "source": [
        "from sklearn.ensemble import GradientBoostingRegressor as GBR\n",
        "print(GBR().fit(X = x_train, y=y_train).score(x_test, y_test))"
      ]
    },
    {
      "cell_type": "code",
      "execution_count": null,
      "metadata": {
        "id": "RKjax7bfLbwK"
      },
      "outputs": [],
      "source": [
        "print(RFR(n_estimators = 1000).fit(X = x_train, y=y_train).score(x_test, y_test))"
      ]
    },
    {
      "cell_type": "code",
      "execution_count": null,
      "metadata": {
        "id": "XIWF-vEIgPdh"
      },
      "outputs": [],
      "source": []
    }
  ],
  "metadata": {
    "accelerator": "GPU",
    "colab": {
      "gpuType": "T4",
      "provenance": []
    },
    "kernelspec": {
      "display_name": "Python 3",
      "name": "python3"
    },
    "language_info": {
      "name": "python"
    }
  },
  "nbformat": 4,
  "nbformat_minor": 0
}
